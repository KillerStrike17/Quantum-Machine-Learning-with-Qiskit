{
 "cells": [
  {
   "cell_type": "code",
   "execution_count": 25,
   "metadata": {},
   "outputs": [],
   "source": [
    "from qiskit import *\n",
    "from qiskit.tools.visualization import plot_histogram\n",
    "from qiskit.tools.monitor import job_monitor"
   ]
  },
  {
   "cell_type": "code",
   "execution_count": 2,
   "metadata": {},
   "outputs": [],
   "source": [
    "# Loading 2 qubio quantum register\n",
    "qr = QuantumRegister(2)"
   ]
  },
  {
   "cell_type": "code",
   "execution_count": 3,
   "metadata": {},
   "outputs": [],
   "source": [
    "# Loading 2 classical bit which will be used for measure\n",
    "cr = ClassicalRegister(2)"
   ]
  },
  {
   "cell_type": "code",
   "execution_count": 4,
   "metadata": {},
   "outputs": [],
   "source": [
    "# Plotting the circuit out of the QUantum Circuit\n",
    "circuit = QuantumCircuit(qr,cr)"
   ]
  },
  {
   "cell_type": "code",
   "execution_count": 5,
   "metadata": {},
   "outputs": [],
   "source": [
    "%matplotlib inline"
   ]
  },
  {
   "cell_type": "code",
   "execution_count": 6,
   "metadata": {},
   "outputs": [
    {
     "data": {
      "text/html": [
       "<pre style=\"word-wrap: normal;white-space: pre;background: #fff0;line-height: 1.1;font-family: &quot;Courier New&quot;,Courier,monospace\">      \n",
       "q0_0: \n",
       "      \n",
       "q0_1: \n",
       "      \n",
       "c0: 2/\n",
       "      </pre>"
      ],
      "text/plain": [
       "      \n",
       "q0_0: \n",
       "      \n",
       "q0_1: \n",
       "      \n",
       "c0: 2/\n",
       "      "
      ]
     },
     "execution_count": 6,
     "metadata": {},
     "output_type": "execute_result"
    }
   ],
   "source": [
    "# Drawing the Circuit\n",
    "circuit.draw()"
   ]
  },
  {
   "cell_type": "code",
   "execution_count": 7,
   "metadata": {},
   "outputs": [
    {
     "data": {
      "text/plain": [
       "<qiskit.circuit.instructionset.InstructionSet at 0x20dce66d388>"
      ]
     },
     "execution_count": 7,
     "metadata": {},
     "output_type": "execute_result"
    }
   ],
   "source": [
    "circuit.h(qr[0])"
   ]
  },
  {
   "cell_type": "code",
   "execution_count": 8,
   "metadata": {},
   "outputs": [
    {
     "data": {
      "image/png": "[encoded data removed]",
      "text/plain": [
       "<Figure size 213.813x204.68 with 1 Axes>"
      ]
     },
     "execution_count": 8,
     "metadata": {},
     "output_type": "execute_result"
    }
   ],
   "source": [
    "circuit.draw(output = 'mpl')"
   ]
  },
  {
   "cell_type": "code",
   "execution_count": 9,
   "metadata": {},
   "outputs": [
    {
     "name": "stdout",
     "output_type": "stream",
     "text": [
      "Help on TextDrawing in module qiskit.visualization.text object:\n",
      "\n",
      "class TextDrawing(builtins.object)\n",
      " |  TextDrawing(qregs, cregs, instructions, plotbarriers=True, line_length=None, vertical_compression='high', layout=None, initial_state=True, cregbundle=False, global_phase=None)\n",
      " |  \n",
      " |  The text drawing\n",
      " |  \n",
      " |  Methods defined here:\n",
      " |  \n",
      " |  __init__(self, qregs, cregs, instructions, plotbarriers=True, line_length=None, vertical_compression='high', layout=None, initial_state=True, cregbundle=False, global_phase=None)\n",
      " |      Initialize self.  See help(type(self)) for accurate signature.\n",
      " |  \n",
      " |  __repr__(self)\n",
      " |      Return repr(self).\n",
      " |  \n",
      " |  __str__(self)\n",
      " |      Return str(self).\n",
      " |  \n",
      " |  build_layers(self)\n",
      " |      Constructs layers.\n",
      " |      Returns:\n",
      " |          list: List of DrawElements.\n",
      " |      Raises:\n",
      " |          VisualizationError: When the drawing is, for some reason, impossible to be drawn.\n",
      " |  \n",
      " |  draw_wires(self, wires)\n",
      " |      Given a list of wires, creates a list of lines with the text drawing.\n",
      " |      \n",
      " |      Args:\n",
      " |          wires (list): A list of wires with instructions.\n",
      " |      Returns:\n",
      " |          list: A list of lines with the text drawing.\n",
      " |  \n",
      " |  dump(self, filename, encoding='utf8')\n",
      " |      Dumps the ascii art in the file.\n",
      " |      \n",
      " |      Args:\n",
      " |          filename (str): File to dump the ascii art.\n",
      " |          encoding (str): Optional. Default \"utf-8\".\n",
      " |  \n",
      " |  lines(self, line_length=None)\n",
      " |      Generates a list with lines. These lines form the text drawing.\n",
      " |      \n",
      " |      Args:\n",
      " |          line_length (int): Optional. Breaks the circuit drawing to this length. This\n",
      " |                             useful when the drawing does not fit in the console. If\n",
      " |                             None (default), it will try to guess the console width using\n",
      " |                             shutil.get_terminal_size(). If you don't want pagination\n",
      " |                             at all, set line_length=-1.\n",
      " |      \n",
      " |      Returns:\n",
      " |          list: A list of lines with the text drawing.\n",
      " |  \n",
      " |  should_compress(self, top_line, bot_line)\n",
      " |      Decides if the top_line and bot_line should be merged,\n",
      " |      based on `self.vertical_compression`.\n",
      " |  \n",
      " |  single_string(self)\n",
      " |      Creates a long string with the ascii art.\n",
      " |      \n",
      " |      Returns:\n",
      " |          str: The lines joined by a newline (``\\n``)\n",
      " |  \n",
      " |  wire_names(self, with_initial_state=False)\n",
      " |      Returns a list of names for each wire.\n",
      " |      \n",
      " |      Args:\n",
      " |          with_initial_state (bool): Optional (Default: False). If true, adds\n",
      " |              the initial value to the name.\n",
      " |      \n",
      " |      Returns:\n",
      " |          List: The list of wire names.\n",
      " |  \n",
      " |  ----------------------------------------------------------------------\n",
      " |  Static methods defined here:\n",
      " |  \n",
      " |  controlled_wires(instruction, layer)\n",
      " |      Analyzes the instruction in the layer and checks if the controlled arguments are in\n",
      " |      the box or out of the box.\n",
      " |      \n",
      " |      Args:\n",
      " |          instruction (Instruction): instruction to analyse\n",
      " |          layer (Layer): The layer in which the instruction is inserted.\n",
      " |      \n",
      " |      Returns:\n",
      " |          Tuple(list, list, list):\n",
      " |            - tuple: controlled arguments on top of the \"instruction box\", and its status\n",
      " |            - tuple: controlled arguments on bottom of the \"instruction box\", and its status\n",
      " |            - tuple: controlled arguments in the \"instruction box\", and its status\n",
      " |            - the rest of the arguments\n",
      " |  \n",
      " |  label_for_box(instruction, controlled=False)\n",
      " |      Creates the label for a box.\n",
      " |  \n",
      " |  label_for_conditional(instruction)\n",
      " |      Creates the label for a conditional instruction.\n",
      " |  \n",
      " |  merge_lines(top, bot, icod='top')\n",
      " |      Merges two lines (top and bot) in the way that the overlapping make senses.\n",
      " |      \n",
      " |      Args:\n",
      " |          top (str): the top line\n",
      " |          bot (str): the bottom line\n",
      " |          icod (top or bot): in case of doubt, which line should have priority? Default: \"top\".\n",
      " |      Returns:\n",
      " |          str: The merge of both lines.\n",
      " |  \n",
      " |  normalize_width(layer)\n",
      " |      When the elements of the layer have different widths, sets the width to the max elements.\n",
      " |      \n",
      " |      Args:\n",
      " |          layer (list): A list of elements.\n",
      " |  \n",
      " |  params_for_label(instruction)\n",
      " |      Get the params and format them to add them to a label. None if there\n",
      " |      are no params or if the params are numpy.ndarrays.\n",
      " |  \n",
      " |  special_label(instruction)\n",
      " |      Some instructions have special labels\n",
      " |  \n",
      " |  ----------------------------------------------------------------------\n",
      " |  Data descriptors defined here:\n",
      " |  \n",
      " |  __dict__\n",
      " |      dictionary for instance variables (if defined)\n",
      " |  \n",
      " |  __weakref__\n",
      " |      list of weak references to the object (if defined)\n",
      "\n"
     ]
    }
   ],
   "source": [
    "help(circuit.draw())"
   ]
  },
  {
   "cell_type": "code",
   "execution_count": 10,
   "metadata": {},
   "outputs": [
    {
     "data": {
      "text/plain": [
       "<qiskit.circuit.instructionset.InstructionSet at 0x20dce76f788>"
      ]
     },
     "execution_count": 10,
     "metadata": {},
     "output_type": "execute_result"
    }
   ],
   "source": [
    "# IF gate implementation, the first parameter takes in the condition which has to be checked where as the second parameter takes in the output\n",
    "circuit.cx(qr[0],qr[1])"
   ]
  },
  {
   "cell_type": "code",
   "execution_count": 11,
   "metadata": {},
   "outputs": [
    {
     "data": {
      "text/plain": [
       "<qiskit.circuit.instructionset.InstructionSet at 0x20dcf891088>"
      ]
     },
     "execution_count": 11,
     "metadata": {},
     "output_type": "execute_result"
    }
   ],
   "source": [
    "circuit.measure(qr,cr)"
   ]
  },
  {
   "cell_type": "code",
   "execution_count": 12,
   "metadata": {},
   "outputs": [
    {
     "data": {
      "image/png": "[encoded data removed]",
      "text/plain": [
       "<Figure size 394.413x204.68 with 1 Axes>"
      ]
     },
     "execution_count": 12,
     "metadata": {},
     "output_type": "execute_result"
    }
   ],
   "source": [
    "circuit.draw(output = 'mpl')"
   ]
  },
  {
   "cell_type": "code",
   "execution_count": 13,
   "metadata": {},
   "outputs": [],
   "source": [
    "simulator =  Aer.get_backend('qasm_simulator')"
   ]
  },
  {
   "cell_type": "code",
   "execution_count": 14,
   "metadata": {},
   "outputs": [],
   "source": [
    "results = execute(circuit,backend = simulator).result()"
   ]
  },
  {
   "cell_type": "code",
   "execution_count": 17,
   "metadata": {},
   "outputs": [
    {
     "data": {
      "text/plain": [
       "['__class__',\n",
       " '__delattr__',\n",
       " '__dict__',\n",
       " '__dir__',\n",
       " '__doc__',\n",
       " '__eq__',\n",
       " '__format__',\n",
       " '__ge__',\n",
       " '__getattr__',\n",
       " '__getattribute__',\n",
       " '__gt__',\n",
       " '__hash__',\n",
       " '__init__',\n",
       " '__init_subclass__',\n",
       " '__le__',\n",
       " '__lt__',\n",
       " '__module__',\n",
       " '__ne__',\n",
       " '__new__',\n",
       " '__reduce__',\n",
       " '__reduce_ex__',\n",
       " '__repr__',\n",
       " '__setattr__',\n",
       " '__sizeof__',\n",
       " '__str__',\n",
       " '__subclasshook__',\n",
       " '__weakref__',\n",
       " '_get_experiment',\n",
       " '_metadata',\n",
       " 'backend_name',\n",
       " 'backend_version',\n",
       " 'data',\n",
       " 'date',\n",
       " 'from_dict',\n",
       " 'get_counts',\n",
       " 'get_memory',\n",
       " 'get_statevector',\n",
       " 'get_unitary',\n",
       " 'header',\n",
       " 'job_id',\n",
       " 'qobj_id',\n",
       " 'results',\n",
       " 'status',\n",
       " 'success',\n",
       " 'to_dict']"
      ]
     },
     "execution_count": 17,
     "metadata": {},
     "output_type": "execute_result"
    }
   ],
   "source": [
    "dir(results)"
   ]
  },
  {
   "cell_type": "code",
   "execution_count": 19,
   "metadata": {},
   "outputs": [
    {
     "data": {
      "image/png": "[encoded data removed]",
      "text/plain": [
       "<Figure size 504x360 with 1 Axes>"
      ]
     },
     "execution_count": 19,
     "metadata": {},
     "output_type": "execute_result"
    }
   ],
   "source": [
    "plot_histogram(results.get_counts(circuit))"
   ]
  },
  {
   "cell_type": "code",
   "execution_count": 21,
   "metadata": {},
   "outputs": [
    {
     "name": "stderr",
     "output_type": "stream",
     "text": [
      "d:\\anaconda\\envs\\ai\\lib\\site-packages\\qiskit\\providers\\ibmq\\ibmqfactory.py:192: UserWarning: Timestamps in IBMQ backend properties, jobs, and job results are all now in local time instead of UTC.\n",
      "  warnings.warn('Timestamps in IBMQ backend properties, jobs, and job results '\n"
     ]
    },
    {
     "data": {
      "text/plain": [
       "<AccountProvider for IBMQ(hub='ibm-q', group='open', project='main')>"
      ]
     },
     "execution_count": 21,
     "metadata": {},
     "output_type": "execute_result"
    }
   ],
   "source": [
    "IBMQ.load_account()"
   ]
  },
  {
   "cell_type": "code",
   "execution_count": 22,
   "metadata": {},
   "outputs": [],
   "source": [
    "provider = IBMQ.get_provider('ibm-q')"
   ]
  },
  {
   "cell_type": "code",
   "execution_count": 23,
   "metadata": {},
   "outputs": [],
   "source": [
    "qcomp  = provider.get_backend('ibmq_16_melbourne')"
   ]
  },
  {
   "cell_type": "code",
   "execution_count": 24,
   "metadata": {},
   "outputs": [],
   "source": [
    "job = execute(circuit, backend = qcomp)"
   ]
  },
  {
   "cell_type": "code",
   "execution_count": 26,
   "metadata": {},
   "outputs": [
    {
     "name": "stdout",
     "output_type": "stream",
     "text": [
      "Job Status: job has successfully run\n"
     ]
    }
   ],
   "source": [
    "job_monitor(job)"
   ]
  },
  {
   "cell_type": "code",
   "execution_count": 28,
   "metadata": {},
   "outputs": [],
   "source": [
    "results = job.result()"
   ]
  },
  {
   "cell_type": "code",
   "execution_count": 29,
   "metadata": {
    "scrolled": true
   },
   "outputs": [
    {
     "ename": "QiskitError",
     "evalue": "'Data for experiment \"<module \\'qiskit.circuit\\' from \\'d:\\\\\\\\anaconda\\\\\\\\envs\\\\\\\\ai\\\\\\\\lib\\\\\\\\site-packages\\\\\\\\qiskit\\\\\\\\circuit\\\\\\\\__init__.py\\'>\" could not be found.'",
     "output_type": "error",
     "traceback": [
      "\u001b[1;31m---------------------------------------------------------------------------\u001b[0m",
      "\u001b[1;31mStopIteration\u001b[0m                             Traceback (most recent call last)",
      "\u001b[1;32md:\\anaconda\\envs\\ai\\lib\\site-packages\\qiskit\\result\\result.py\u001b[0m in \u001b[0;36m_get_experiment\u001b[1;34m(self, key)\u001b[0m\n\u001b[0;32m    338\u001b[0m                 \u001b[1;31m# Look into `result[x].header.name` for the names.\u001b[0m\u001b[1;33m\u001b[0m\u001b[1;33m\u001b[0m\u001b[1;33m\u001b[0m\u001b[0m\n\u001b[1;32m--> 339\u001b[1;33m                 exp = next(result for result in self.results\n\u001b[0m\u001b[0;32m    340\u001b[0m                            if getattr(getattr(result, 'header', None),\n",
      "\u001b[1;31mStopIteration\u001b[0m: ",
      "\nDuring handling of the above exception, another exception occurred:\n",
      "\u001b[1;31mQiskitError\u001b[0m                               Traceback (most recent call last)",
      "\u001b[1;32m<ipython-input-29-2d264e53bcfb>\u001b[0m in \u001b[0;36m<module>\u001b[1;34m\u001b[0m\n\u001b[1;32m----> 1\u001b[1;33m \u001b[0mplot_histogram\u001b[0m\u001b[1;33m(\u001b[0m\u001b[0mresults\u001b[0m\u001b[1;33m.\u001b[0m\u001b[0mget_counts\u001b[0m\u001b[1;33m(\u001b[0m\u001b[0mcircuit\u001b[0m\u001b[1;33m)\u001b[0m\u001b[1;33m)\u001b[0m\u001b[1;33m\u001b[0m\u001b[1;33m\u001b[0m\u001b[0m\n\u001b[0m",
      "\u001b[1;32md:\\anaconda\\envs\\ai\\lib\\site-packages\\qiskit\\result\\result.py\u001b[0m in \u001b[0;36mget_counts\u001b[1;34m(self, experiment)\u001b[0m\n\u001b[0;32m    237\u001b[0m         \u001b[0mdict_list\u001b[0m \u001b[1;33m=\u001b[0m \u001b[1;33m[\u001b[0m\u001b[1;33m]\u001b[0m\u001b[1;33m\u001b[0m\u001b[1;33m\u001b[0m\u001b[0m\n\u001b[0;32m    238\u001b[0m         \u001b[1;32mfor\u001b[0m \u001b[0mkey\u001b[0m \u001b[1;32min\u001b[0m \u001b[0mexp_keys\u001b[0m\u001b[1;33m:\u001b[0m\u001b[1;33m\u001b[0m\u001b[1;33m\u001b[0m\u001b[0m\n\u001b[1;32m--> 239\u001b[1;33m             \u001b[0mexp\u001b[0m \u001b[1;33m=\u001b[0m \u001b[0mself\u001b[0m\u001b[1;33m.\u001b[0m\u001b[0m_get_experiment\u001b[0m\u001b[1;33m(\u001b[0m\u001b[0mkey\u001b[0m\u001b[1;33m)\u001b[0m\u001b[1;33m\u001b[0m\u001b[1;33m\u001b[0m\u001b[0m\n\u001b[0m\u001b[0;32m    240\u001b[0m             \u001b[1;32mtry\u001b[0m\u001b[1;33m:\u001b[0m\u001b[1;33m\u001b[0m\u001b[1;33m\u001b[0m\u001b[0m\n\u001b[0;32m    241\u001b[0m                 \u001b[0mheader\u001b[0m \u001b[1;33m=\u001b[0m \u001b[0mexp\u001b[0m\u001b[1;33m.\u001b[0m\u001b[0mheader\u001b[0m\u001b[1;33m.\u001b[0m\u001b[0mto_dict\u001b[0m\u001b[1;33m(\u001b[0m\u001b[1;33m)\u001b[0m\u001b[1;33m\u001b[0m\u001b[1;33m\u001b[0m\u001b[0m\n",
      "\u001b[1;32md:\\anaconda\\envs\\ai\\lib\\site-packages\\qiskit\\result\\result.py\u001b[0m in \u001b[0;36m_get_experiment\u001b[1;34m(self, key)\u001b[0m\n\u001b[0;32m    342\u001b[0m             \u001b[1;32mexcept\u001b[0m \u001b[0mStopIteration\u001b[0m\u001b[1;33m:\u001b[0m\u001b[1;33m\u001b[0m\u001b[1;33m\u001b[0m\u001b[0m\n\u001b[0;32m    343\u001b[0m                 raise QiskitError('Data for experiment \"%s\" could not be found.' %\n\u001b[1;32m--> 344\u001b[1;33m                                   key)\n\u001b[0m\u001b[0;32m    345\u001b[0m \u001b[1;33m\u001b[0m\u001b[0m\n\u001b[0;32m    346\u001b[0m         \u001b[1;31m# Check that the retrieved experiment was successful\u001b[0m\u001b[1;33m\u001b[0m\u001b[1;33m\u001b[0m\u001b[1;33m\u001b[0m\u001b[0m\n",
      "\u001b[1;31mQiskitError\u001b[0m: 'Data for experiment \"<module \\'qiskit.circuit\\' from \\'d:\\\\\\\\anaconda\\\\\\\\envs\\\\\\\\ai\\\\\\\\lib\\\\\\\\site-packages\\\\\\\\qiskit\\\\\\\\circuit\\\\\\\\__init__.py\\'>\" could not be found.'"
     ]
    }
   ],
   "source": [
    "plot_histogram(results.get_counts(circuit))"
   ]
  },
  {
   "cell_type": "code",
   "execution_count": null,
   "metadata": {},
   "outputs": [],
   "source": []
  }
 ],
 "metadata": {
  "kernelspec": {
   "display_name": "Python 3",
   "language": "python",
   "name": "python3"
  },
  "language_info": {
   "codemirror_mode": {
    "name": "ipython",
    "version": 3
   },
   "file_extension": ".py",
   "mimetype": "text/x-python",
   "name": "python",
   "nbconvert_exporter": "python",
   "pygments_lexer": "ipython3",
   "version": "3.8.3"
  }
 },
 "nbformat": 4,
 "nbformat_minor": 4
}
